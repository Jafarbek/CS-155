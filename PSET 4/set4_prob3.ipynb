{
 "cells": [
  {
   "cell_type": "markdown",
   "metadata": {},
   "source": [
    "# Problem 3"
   ]
  },
  {
   "cell_type": "markdown",
   "metadata": {},
   "source": [
    "Use this notebook to write your code for problem 3."
   ]
  },
  {
   "cell_type": "code",
   "execution_count": 11,
   "metadata": {},
   "outputs": [],
   "source": [
    "import numpy as np\n",
    "import matplotlib.pyplot as plt\n",
    "%matplotlib inline"
   ]
  },
  {
   "cell_type": "markdown",
   "metadata": {},
   "source": [
    "## 3D - Convolutional network"
   ]
  },
  {
   "cell_type": "markdown",
   "metadata": {},
   "source": [
    "As in problem 2, we have conveniently provided for your use code that loads and preprocesses the MNIST data."
   ]
  },
  {
   "cell_type": "code",
   "execution_count": 12,
   "metadata": {},
   "outputs": [],
   "source": [
    "# load MNIST data into PyTorch format\n",
    "import torch\n",
    "import torchvision\n",
    "import torchvision.transforms as transforms\n",
    "\n",
    "# set batch size\n",
    "batch_size = 32\n",
    "\n",
    "# load training data downloaded into data/ folder\n",
    "mnist_training_data = torchvision.datasets.MNIST('data/', train=True, download=True,\n",
    "                                                transform=transforms.ToTensor())\n",
    "# transforms.ToTensor() converts batch of images to 4-D tensor and normalizes 0-255 to 0-1.0\n",
    "training_data_loader = torch.utils.data.DataLoader(mnist_training_data,\n",
    "                                                  batch_size=batch_size,\n",
    "                                                  shuffle=True)\n",
    "\n",
    "# load test data\n",
    "mnist_test_data = torchvision.datasets.MNIST('data/', train=False, download=True,\n",
    "                                                transform=transforms.ToTensor())\n",
    "test_data_loader = torch.utils.data.DataLoader(mnist_test_data,\n",
    "                                                  batch_size=batch_size,\n",
    "                                                  shuffle=False)"
   ]
  },
  {
   "cell_type": "code",
   "execution_count": 13,
   "metadata": {},
   "outputs": [
    {
     "name": "stdout",
     "output_type": "stream",
     "text": [
      "1875 training batches\n",
      "60000 training samples\n",
      "313 validation batches\n"
     ]
    }
   ],
   "source": [
    "# look at the number of batches per epoch for training and validation\n",
    "print(f'{len(training_data_loader)} training batches')\n",
    "print(f'{len(training_data_loader) * batch_size} training samples')\n",
    "print(f'{len(test_data_loader)} validation batches')"
   ]
  },
  {
   "cell_type": "code",
   "execution_count": 14,
   "metadata": {},
   "outputs": [],
   "source": [
    "# sample model\n",
    "import torch.nn as nn\n",
    "\n",
    "model = nn.Sequential(\n",
    "    nn.Conv2d(1, 8, kernel_size=(3,3)),\n",
    "    nn.ReLU(),\n",
    "    nn.MaxPool2d(2),\n",
    "    nn.Dropout(p=0.5),\n",
    "    \n",
    "    nn.Conv2d(8, 8, kernel_size=(3,3)),\n",
    "    nn.ReLU(),\n",
    "    nn.MaxPool2d(2),\n",
    "    nn.Dropout(p=0.5),\n",
    "    \n",
    "    nn.Flatten(),\n",
    "    nn.Linear(25*8, 64),\n",
    "    nn.ReLU(),\n",
    "    nn.Linear(64, 10)\n",
    "    # PyTorch implementation of cross-entropy loss includes softmax layer\n",
    ")"
   ]
  },
  {
   "cell_type": "code",
   "execution_count": 15,
   "metadata": {},
   "outputs": [
    {
     "name": "stdout",
     "output_type": "stream",
     "text": [
      "torch.Size([8, 1, 3, 3])\n",
      "torch.Size([8])\n",
      "torch.Size([8, 8, 3, 3])\n",
      "torch.Size([8])\n",
      "torch.Size([64, 200])\n",
      "torch.Size([64])\n",
      "torch.Size([10, 64])\n",
      "torch.Size([10])\n"
     ]
    }
   ],
   "source": [
    "# why don't we take a look at the shape of the weights for each layer\n",
    "for p in model.parameters():\n",
    "    print(p.data.shape)"
   ]
  },
  {
   "cell_type": "code",
   "execution_count": 16,
   "metadata": {},
   "outputs": [
    {
     "name": "stdout",
     "output_type": "stream",
     "text": [
      "total params: 14178\n"
     ]
    }
   ],
   "source": [
    "# our model has some # of parameters:\n",
    "count = 0\n",
    "for p in model.parameters():\n",
    "    n_params = np.prod(list(p.data.shape)).item()\n",
    "    count += n_params\n",
    "print(f'total params: {count}')"
   ]
  },
  {
   "cell_type": "code",
   "execution_count": 17,
   "metadata": {},
   "outputs": [],
   "source": [
    "# For a multi-class classification problem\n",
    "import torch.optim as optim\n",
    "criterion = nn.CrossEntropyLoss()\n",
    "optimizer = optim.RMSprop(model.parameters())"
   ]
  },
  {
   "cell_type": "code",
   "execution_count": 18,
   "metadata": {},
   "outputs": [
    {
     "name": "stdout",
     "output_type": "stream",
     "text": [
      "Epoch 1/10:...........\n",
      "\tloss: 0.6748, acc: 0.7780, val loss: 0.2176, val acc: 0.9495\n",
      "Epoch 2/10:...........\n",
      "\tloss: 0.4449, acc: 0.8588, val loss: 0.1928, val acc: 0.9538\n",
      "Epoch 3/10:...........\n",
      "\tloss: 0.4185, acc: 0.8693, val loss: 0.1847, val acc: 0.9502\n",
      "Epoch 4/10:...........\n",
      "\tloss: 0.4085, acc: 0.8736, val loss: 0.1654, val acc: 0.9597\n",
      "Epoch 5/10:...........\n",
      "\tloss: 0.4074, acc: 0.8726, val loss: 0.1979, val acc: 0.9474\n",
      "Epoch 6/10:...........\n",
      "\tloss: 0.4021, acc: 0.8771, val loss: 0.1585, val acc: 0.9588\n",
      "Epoch 7/10:...........\n",
      "\tloss: 0.3966, acc: 0.8782, val loss: 0.1748, val acc: 0.9597\n",
      "Epoch 8/10:...........\n",
      "\tloss: 0.3890, acc: 0.8817, val loss: 0.1965, val acc: 0.9526\n",
      "Epoch 9/10:...........\n",
      "\tloss: 0.3931, acc: 0.8802, val loss: 0.1793, val acc: 0.9540\n",
      "Epoch 10/10:...........\n",
      "\tloss: 0.3948, acc: 0.8796, val loss: 0.1499, val acc: 0.9636\n"
     ]
    }
   ],
   "source": [
    "# Train the model for 10 epochs, iterating on the data in batches\n",
    "n_epochs = 10\n",
    "\n",
    "# store metrics\n",
    "training_accuracy_history = np.zeros([n_epochs, 1])\n",
    "training_loss_history = np.zeros([n_epochs, 1])\n",
    "validation_accuracy_history = np.zeros([n_epochs, 1])\n",
    "validation_loss_history = np.zeros([n_epochs, 1])\n",
    "\n",
    "for epoch in range(n_epochs):\n",
    "    print(f'Epoch {epoch+1}/10:', end='')\n",
    "    train_total = 0\n",
    "    train_correct = 0\n",
    "    # train\n",
    "    model.train()\n",
    "    for i, data in enumerate(training_data_loader):\n",
    "        images, labels = data\n",
    "        optimizer.zero_grad()\n",
    "        # forward pass\n",
    "        output = model(images)\n",
    "        # calculate categorical cross entropy loss\n",
    "        loss = criterion(output, labels)\n",
    "        # backward pass\n",
    "        loss.backward()\n",
    "        optimizer.step()\n",
    "        \n",
    "        # track training accuracy\n",
    "        _, predicted = torch.max(output.data, 1)\n",
    "        train_total += labels.size(0)\n",
    "        train_correct += (predicted == labels).sum().item()\n",
    "        # track training loss\n",
    "        training_loss_history[epoch] += loss.item()\n",
    "        # progress update after 180 batches (~1/10 epoch for batch size 32)\n",
    "        if i % 180 == 0: print('.',end='')\n",
    "    training_loss_history[epoch] /= len(training_data_loader)\n",
    "    training_accuracy_history[epoch] = train_correct / train_total\n",
    "    print(f'\\n\\tloss: {training_loss_history[epoch,0]:0.4f}, acc: {training_accuracy_history[epoch,0]:0.4f}',end='')\n",
    "        \n",
    "    # validate\n",
    "    test_total = 0\n",
    "    test_correct = 0\n",
    "    with torch.no_grad():\n",
    "        model.eval()\n",
    "        for i, data in enumerate(test_data_loader):\n",
    "            images, labels = data\n",
    "            # forward pass\n",
    "            output = model(images)\n",
    "            # find accuracy\n",
    "            _, predicted = torch.max(output.data, 1)\n",
    "            test_total += labels.size(0)\n",
    "            test_correct += (predicted == labels).sum().item()\n",
    "            # find loss\n",
    "            loss = criterion(output, labels)\n",
    "            validation_loss_history[epoch] += loss.item()\n",
    "        validation_loss_history[epoch] /= len(test_data_loader)\n",
    "        validation_accuracy_history[epoch] = test_correct / test_total\n",
    "    print(f', val loss: {validation_loss_history[epoch,0]:0.4f}, val acc: {validation_accuracy_history[epoch,0]:0.4f}')"
   ]
  },
  {
   "cell_type": "markdown",
   "metadata": {},
   "source": [
    "Above, we output the training loss/accuracy as well as the validation loss and accuracy. Not bad! Let's see if you can do better."
   ]
  },
  {
   "cell_type": "code",
   "execution_count": 19,
   "metadata": {},
   "outputs": [
    {
     "name": "stdout",
     "output_type": "stream",
     "text": [
      "Epoch 1/10 | Val Loss = 0.0450, Val Acc = 0.9857\n",
      "Epoch 2/10 | Val Loss = 0.0329, Val Acc = 0.9889\n",
      "Epoch 3/10 | Val Loss = 0.0293, Val Acc = 0.9898\n",
      "Epoch 4/10 | Val Loss = 0.0264, Val Acc = 0.9916\n",
      "Epoch 5/10 | Val Loss = 0.0241, Val Acc = 0.9919\n",
      "Epoch 6/10 | Val Loss = 0.0232, Val Acc = 0.9930\n",
      "Epoch 7/10 | Val Loss = 0.0230, Val Acc = 0.9929\n",
      "Epoch 8/10 | Val Loss = 0.0235, Val Acc = 0.9932\n",
      "Epoch 9/10 | Val Loss = 0.0226, Val Acc = 0.9939\n",
      "Epoch 10/10 | Val Loss = 0.0219, Val Acc = 0.9932\n"
     ]
    }
   ],
   "source": [
    "\n",
    "# Build a deeper CNN with >= 1 dropout + 1 batchnorm layer\n",
    "model = nn.Sequential(\n",
    "    # Conv block 1\n",
    "    nn.Conv2d(in_channels=1, out_channels=16, kernel_size=3, padding=1),\n",
    "    nn.BatchNorm2d(16),\n",
    "    nn.ReLU(),\n",
    "    nn.MaxPool2d(kernel_size=2),     \n",
    "    nn.Dropout(p=0.3),\n",
    "\n",
    "    # Conv block 2\n",
    "    nn.Conv2d(16, 32, kernel_size=3, padding=1),\n",
    "    nn.BatchNorm2d(32),\n",
    "    nn.ReLU(),\n",
    "    nn.MaxPool2d(kernel_size=2),      \n",
    "    nn.Dropout(p=0.3),\n",
    "\n",
    "    # Optionally add a 3rd block if you want even better accuracy:\n",
    "    nn.Conv2d(32, 64, kernel_size=3, padding=1),\n",
    "    nn.BatchNorm2d(64),\n",
    "    nn.ReLU(),\n",
    "    nn.MaxPool2d(kernel_size=2, padding=1), \n",
    "    nn.Dropout(p=0.3),\n",
    "    \n",
    "    nn.Flatten(),                    \n",
    "\n",
    "    nn.Linear(in_features=64*4*4, out_features=256),\n",
    "    nn.BatchNorm1d(256),\n",
    "    nn.ReLU(),\n",
    "    nn.Dropout(p=0.5),\n",
    "    nn.Linear(256, 10)              \n",
    ")\n",
    "\n",
    "# Loss function (includes softmax internally) and optimizer\n",
    "criterion = nn.CrossEntropyLoss()\n",
    "optimizer = optim.RMSprop(model.parameters(), lr=1e-3)\n",
    "\n",
    "# Training loop \n",
    "n_epochs = 10\n",
    "for epoch in range(n_epochs):\n",
    "    model.train()  \n",
    "    for batch_idx, (images, labels) in enumerate(training_data_loader):\n",
    "        optimizer.zero_grad()\n",
    "        output = model(images)\n",
    "        loss = criterion(output, labels)\n",
    "        loss.backward()\n",
    "        optimizer.step()\n",
    "    \n",
    "    # Validation pass\n",
    "    model.eval()\n",
    "    correct = 0\n",
    "    total = 0\n",
    "    val_loss = 0.0\n",
    "    with torch.no_grad():\n",
    "        for images, labels in test_data_loader:\n",
    "            logits = model(images)\n",
    "            val_loss += criterion(logits, labels).item()\n",
    "            preds = logits.argmax(dim=1)\n",
    "            correct += (preds == labels).sum().item()\n",
    "            total += labels.size(0)\n",
    "    val_accuracy = correct / total\n",
    "    val_loss /= len(test_data_loader)\n",
    "    print(f\"Epoch {epoch+1}/{n_epochs} | Val Loss = {val_loss:.4f}, Val Acc = {val_accuracy:.4f}\")\n"
   ]
  }
 ],
 "metadata": {
  "anaconda-cloud": {},
  "kernelspec": {
   "display_name": "Python 3",
   "language": "python",
   "name": "python3"
  },
  "language_info": {
   "codemirror_mode": {
    "name": "ipython",
    "version": 3
   },
   "file_extension": ".py",
   "mimetype": "text/x-python",
   "name": "python",
   "nbconvert_exporter": "python",
   "pygments_lexer": "ipython3",
   "version": "3.12.2"
  }
 },
 "nbformat": 4,
 "nbformat_minor": 1
}
