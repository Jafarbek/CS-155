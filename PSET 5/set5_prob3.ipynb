{
  "cells": [
    {
      "cell_type": "markdown",
      "metadata": {
        "id": "ViXzmmMF4T9_"
      },
      "source": [
        "## Set 5\n",
        "## 3. Word2Vec \\*\\*Principles**"
      ]
    },
    {
      "cell_type": "markdown",
      "metadata": {
        "id": "HXT_eNcB93ue"
      },
      "source": [
        "#### Preparation"
      ]
    },
    {
      "cell_type": "code",
      "execution_count": 1,
      "metadata": {
        "id": "2wZbd6FeH7cY"
      },
      "outputs": [],
      "source": [
        "import requests\n",
        "url_dict = {\n",
        "    'dr_seuss.txt': 'https://caltech-cs155.s3.us-east-2.amazonaws.com/sets/set5/data/dr_seuss.txt',\n",
        "    'P3CHelpers.py': 'https://caltech-cs155.s3.us-east-2.amazonaws.com/sets/set5/code/P3CHelpers.py'\n",
        "}\n",
        "def download_file(file_path):\n",
        "    url = url_dict[file_path]\n",
        "    print('Start downloading...')\n",
        "    with requests.get(url, stream=True) as r:\n",
        "        r.raise_for_status()\n",
        "        with open(file_path, 'wb') as f:\n",
        "            for chunk in r.iter_content(chunk_size=1024 * 1024 * 1024):\n",
        "                f.write(chunk)\n",
        "    print('Complete')"
      ]
    },
    {
      "cell_type": "code",
      "execution_count": 2,
      "metadata": {
        "colab": {
          "base_uri": "https://localhost:8080/"
        },
        "id": "LmmdYcVUH9D8",
        "outputId": "4476f877-3424-4add-9abb-ab2af39a297a"
      },
      "outputs": [
        {
          "name": "stdout",
          "output_type": "stream",
          "text": [
            "Start downloading...\n",
            "Complete\n",
            "Start downloading...\n",
            "Complete\n"
          ]
        }
      ],
      "source": [
        "# Download files\n",
        "download_file('dr_seuss.txt')\n",
        "download_file('P3CHelpers.py')"
      ]
    },
    {
      "cell_type": "code",
      "execution_count": 3,
      "metadata": {
        "id": "Groxh_Rz4QLB"
      },
      "outputs": [],
      "source": [
        "import numpy as np\n",
        "from P3CHelpers import *\n",
        "import torch\n",
        "import torch.nn as nn\n",
        "import torch.optim as optim"
      ]
    },
    {
      "cell_type": "code",
      "execution_count": 4,
      "metadata": {
        "id": "hB8wZp6y0EWT"
      },
      "outputs": [],
      "source": [
        "import numpy as np\n",
        "\n",
        "##########################\n",
        "# Helper functions/classes\n",
        "##########################\n",
        "\n",
        "class WordPair:\n",
        "    \"\"\"\n",
        "    Class representing a pair of words in our vocabulary, along with the cosine similarity\n",
        "    of the two words.\n",
        "    \"\"\"\n",
        "    def __init__(self, firstWord, secondWord, similarity):\n",
        "        \"\"\"\n",
        "        Initializes the WordPair given two words (strings) and their similarity (float).\n",
        "        \"\"\"\n",
        "        # Ensure that our pair consists of two distinct words\n",
        "        assert(firstWord != secondWord)\n",
        "        self.firstWord = firstWord\n",
        "        self.secondWord = secondWord\n",
        "        self.similarity = similarity\n",
        "\n",
        "    def __repr__(self):\n",
        "        \"\"\"\n",
        "        Define the string representation of a WordPair so that a WordPair instance x\n",
        "        can be displayed using print(x).\n",
        "        \"\"\"\n",
        "        return \"Pair(%s, %s), Similarity: %s\"%(self.firstWord, self.secondWord, self.similarity)\n",
        "\n",
        "\n",
        "def sort_by_similarity(word_pairs):\n",
        "    \"\"\"\n",
        "    Given a list of word pair instances, returns a list of the instances sorted\n",
        "    in decreasing order of similarity.\n",
        "    \"\"\"\n",
        "    return sorted(word_pairs, key=lambda pair: pair.similarity, reverse=True)\n",
        "\n",
        "def get_similarity(v1, v2):\n",
        "    \"\"\" Returns the cosine of the angle between vectors v1 and v2. \"\"\"\n",
        "    v1_unit = v1 / np.linalg.norm(v1)\n",
        "    v2_unit = v2 / np.linalg.norm(v2)\n",
        "    return np.dot(v1_unit, v2_unit)\n",
        "\n",
        "\n",
        "def load_word_list(path):\n",
        "    \"\"\"\n",
        "    Loads a list of the words from the file at path <path>, removing all\n",
        "    non-alpha-numeric characters from the file.\n",
        "    \"\"\"\n",
        "    with open(path) as handle:\n",
        "        # Load a list of whitespace-delimited words from the specified file\n",
        "        raw_text = handle.read().strip().split()\n",
        "        # Strip non-alphanumeric characters from each word\n",
        "        alphanumeric_words = map(lambda word: ''.join(char for char in word if char.isalnum()), raw_text)\n",
        "        # Filter out words that are now empty (e.g. strings that only contained non-alphanumeric chars)\n",
        "        alphanumeric_words = filter(lambda word: len(word) > 0, alphanumeric_words)\n",
        "        # Convert each word to lowercase and return the result\n",
        "        return list(map(lambda word: word.lower(), alphanumeric_words))\n",
        "\n",
        "def generate_onehot_dict(word_list):\n",
        "    \"\"\"\n",
        "    Takes a list of the words in a text file, returning a dictionary mapping\n",
        "    words to their index in a one-hot-encoded representation of the words.\n",
        "    \"\"\"\n",
        "    word_to_index = {}\n",
        "    i = 0\n",
        "    for word in word_list:\n",
        "        if word not in word_to_index:\n",
        "            word_to_index[word] = i\n",
        "            i += 1\n",
        "    return word_to_index\n",
        "\n",
        "def most_similar_pairs(weight_matrix, word_to_index):\n",
        "    \"\"\"\n",
        "    For each word a in our vocabulary, computes the most similar word b to a, along with the\n",
        "    cosine similarity of a and b.\n",
        "\n",
        "    Arguments:\n",
        "        weight_matrix: The matrix of weights extracted from the hidden layer of a fitted\n",
        "                       neural network.\n",
        "\n",
        "        word_to_index: Dictionary mapping words to their corresponding index\n",
        "                       in a one-hot-encoded representation of our corpus.\n",
        "\n",
        "    Returns:\n",
        "        A list of WordPair instances sorted in decreasing order of similarity,\n",
        "        one representing each word <vocab_word> and its most similar word.\n",
        "    \"\"\"\n",
        "    word_to_feature_repr = get_word_to_feature_repr(weight_matrix, word_to_index)\n",
        "    result = []\n",
        "    for word in word_to_feature_repr:\n",
        "        result.append(most_similar_word(word_to_feature_repr, word))\n",
        "    return sort_by_similarity(result)\n",
        "\n",
        "def most_similar_word(word_to_feature_repr, input_word):\n",
        "    \"\"\"\n",
        "    Given a dictionary mapping words to their feature representations (word_to_feature_repr),\n",
        "    returns the a WordPair instance corresponding to the word\n",
        "    whose feature vector is most similar to the feature representation of the\n",
        "    passed-in word (input_word).\n",
        "    \"\"\"\n",
        "    best_word = None\n",
        "    best_similarity = 0\n",
        "    input_vec = word_to_feature_repr[input_word]\n",
        "    for word, feature_vec in word_to_feature_repr.items():\n",
        "        similarity = get_similarity(input_vec, feature_vec)\n",
        "        if similarity > best_similarity and np.linalg.norm(feature_vec - input_vec) != 0:\n",
        "            best_similarity = similarity\n",
        "            best_word = word\n",
        "    return WordPair(input_word, best_word, best_similarity)\n",
        "\n",
        "def get_word_to_feature_repr(weight_matrix, word_to_index):\n",
        "    \"\"\"\n",
        "    Returns a dictionary mapping each word in our vocabulary to its one-hot-encoded\n",
        "    feature representation.\n",
        "\n",
        "    Arguments:\n",
        "        weight_matrix: The matrix of weights extracted from the hidden layer of a fitted\n",
        "                       neural network.\n",
        "\n",
        "        word_to_index: Dictionary mapping words to their corresponding index\n",
        "                       in a one-hot-encoded representation of our corpus.\n",
        "    \"\"\"\n",
        "    assert(weight_matrix is not None)\n",
        "    word_to_feature_repr = {}\n",
        "    for word, one_hot_idx in word_to_index.items():\n",
        "        word_to_feature_repr[word] = weight_matrix[one_hot_idx]\n",
        "    return word_to_feature_repr"
      ]
    },
    {
      "cell_type": "markdown",
      "metadata": {
        "id": "h9aBEkZD5wb2"
      },
      "source": [
        "#### Problem D:\n",
        "Fill in the generate_traindata and find_most_similar_pairs functions."
      ]
    },
    {
      "cell_type": "code",
      "execution_count": 16,
      "metadata": {
        "id": "UChXkrvs7OF0"
      },
      "outputs": [],
      "source": [
        "def get_word_repr(word_to_index, word):\n",
        "    \"\"\"\n",
        "    Returns one-hot-encoded feature representation of the specified word given\n",
        "    a dictionary mapping words to their one-hot-encoded index.\n",
        "\n",
        "    Arguments:\n",
        "        word_to_index: Dictionary mapping words to their corresponding index\n",
        "                       in a one-hot-encoded representation of our corpus.\n",
        "\n",
        "        word:          Word whose feature representation we wish to compute.\n",
        "\n",
        "    Returns:\n",
        "        feature_representation:     Feature representation of the passed-in word.\n",
        "    \"\"\"\n",
        "    unique_words = word_to_index.keys()\n",
        "    # Return a vector that's zero everywhere besides the index corresponding to <word>\n",
        "    feature_representation = np.zeros(len(unique_words))\n",
        "    feature_representation[word_to_index[word]] = 1\n",
        "    return feature_representation\n",
        "\n",
        "def generate_traindata(word_list, word_to_index, window_size=4):\n",
        "    \"\"\"\n",
        "    Generates training data for Skipgram model.\n",
        "\n",
        "    Arguments:\n",
        "        word_list:     Sequential list of words (strings).\n",
        "        word_to_index: Dictionary mapping words to their corresponding index\n",
        "                       in a one-hot-encoded representation of our corpus.\n",
        "\n",
        "        window_size:   Size of Skipgram window. Defaults to 2\n",
        "                       (use the default value when running your code).\n",
        "\n",
        "    Returns:\n",
        "        (trainX, trainY):     A pair of matrices (trainX, trainY) containing training\n",
        "                              points (one-hot-encoded vectors) and their corresponding output_word\n",
        "                              (also one-hot-encoded vectors)\n",
        "\n",
        "    \"\"\"\n",
        "    trainX = []\n",
        "    trainY = []\n",
        "\n",
        "    vocab_size = len(word_to_index)\n",
        "    for i, center_word in enumerate(word_list):\n",
        "        center_vec = np.zeros(vocab_size)\n",
        "        center_vec[word_to_index[center_word]] = 1\n",
        "        \n",
        "        for offset in range(-window_size, window_size + 1):\n",
        "            if offset == 0:\n",
        "                continue\n",
        "            j = i + offset\n",
        "            if j < 0 or j >= len(word_list):\n",
        "                continue\n",
        "            \n",
        "            context_word = word_list[j]\n",
        "            context_vec = np.zeros(vocab_size)\n",
        "            context_vec[word_to_index[context_word]] = 1\n",
        "            \n",
        "            trainX.append(center_vec)\n",
        "            trainY.append(context_vec)\n",
        "\n",
        "    return np.array(trainX), np.array(trainY)"
      ]
    },
    {
      "cell_type": "code",
      "execution_count": 17,
      "metadata": {
        "id": "OoaUtBqd7V-A"
      },
      "outputs": [],
      "source": [
        "def find_most_similar_pairs(filename, num_latent_factors):\n",
        "    \"\"\"\n",
        "    Find the most similar pairs from the word embeddings computed from\n",
        "    a body of text\n",
        "\n",
        "    Arguments:\n",
        "        filename:           Text file to read and train embeddings from\n",
        "        num_latent_factors: The number of latent factors / the size of the embedding\n",
        "    \"\"\"\n",
        "    # Load in a list of words from the specified file; remove non-alphanumeric characters\n",
        "    # and make all chars lowercase.\n",
        "    sample_text = load_word_list(filename)\n",
        "\n",
        "    # Create word dictionary\n",
        "    word_to_index = generate_onehot_dict(sample_text)\n",
        "    print(\"Textfile contains %s unique words\"%len(word_to_index))\n",
        "    # Create training data\n",
        "    trainX, trainY = generate_traindata(sample_text, word_to_index)\n",
        "\n",
        "    # vocab_size = number of unique words in our text file. Will be useful\n",
        "    # when adding layers to your neural network\n",
        "    vocab_size = len(word_to_index)\n",
        "\n",
        "    # Define the Skipgram model\n",
        "    model = nn.Sequential(\n",
        "        nn.Linear(vocab_size, num_latent_factors, bias=False),\n",
        "        nn.Linear(num_latent_factors, vocab_size, bias=False)\n",
        "    )\n",
        "    criterion = nn.CrossEntropyLoss()\n",
        "    optimizer = optim.Adam(model.parameters(), lr=1e-3)\n",
        "    \n",
        "    # Convert data to Tensors\n",
        "    X_tensor = torch.from_numpy(trainX).float()\n",
        "    Y_tensor = torch.from_numpy(trainY).float()\n",
        "    # Convert one-hot vectors to integer labels\n",
        "    Y_labels = torch.argmax(Y_tensor, dim=1)\n",
        "\n",
        "    # Simple training loop\n",
        "    num_epochs = 5\n",
        "    for epoch in range(num_epochs):\n",
        "        optimizer.zero_grad()\n",
        "        logits = model(X_tensor)\n",
        "        loss = criterion(logits, Y_labels)\n",
        "        loss.backward()\n",
        "        optimizer.step()\n",
        "        print(f\"Epoch {epoch}, Loss: {loss.item()}\")\n",
        "\n",
        "    \n",
        "\n",
        "    \n",
        "    weights = model[0].weight.detach().cpu().numpy().T\n",
        "\n",
        "    # Use provided helper function to rank word pairs\n",
        "    similar_pairs = most_similar_pairs(weights, word_to_index)\n",
        "\n",
        "    # Find and print most similar pairs\n",
        "    similar_pairs = most_similar_pairs(weights, word_to_index)\n",
        "    for pair in similar_pairs[:30]:\n",
        "        print(pair)"
      ]
    },
    {
      "cell_type": "markdown",
      "metadata": {
        "id": "xFBMhtCJ8LyA"
      },
      "source": [
        "### Problem E-H:\n",
        "Run your model on drseuss.txt and answer questions from E through H."
      ]
    },
    {
      "cell_type": "code",
      "execution_count": 18,
      "metadata": {
        "colab": {
          "base_uri": "https://localhost:8080/",
          "height": 304
        },
        "id": "bR7ZicNJ6tyN",
        "outputId": "8ec35976-402d-4153-8ac2-5cb06ce08ca3"
      },
      "outputs": [
        {
          "name": "stdout",
          "output_type": "stream",
          "text": [
            "Textfile contains 308 unique words\n",
            "Epoch 0, Loss: 5.730230331420898\n",
            "Epoch 1, Loss: 5.7298736572265625\n",
            "Epoch 2, Loss: 5.729520797729492\n",
            "Epoch 3, Loss: 5.729167938232422\n",
            "Epoch 4, Loss: 5.728816032409668\n",
            "Pair(near, read), Similarity: 0.93040055\n",
            "Pair(read, near), Similarity: 0.93040055\n",
            "Pair(grows, sam), Similarity: 0.928273\n",
            "Pair(sam, grows), Similarity: 0.928273\n",
            "Pair(fingers, kite), Similarity: 0.92789584\n",
            "Pair(kite, fingers), Similarity: 0.92789584\n",
            "Pair(eleven, something), Similarity: 0.9250636\n",
            "Pair(something, eleven), Similarity: 0.9250636\n",
            "Pair(look, dish), Similarity: 0.91938096\n",
            "Pair(dish, look), Similarity: 0.91938096\n",
            "Pair(star, cold), Similarity: 0.91268593\n",
            "Pair(cold, star), Similarity: 0.91268593\n",
            "Pair(bad, swish), Similarity: 0.9005769\n",
            "Pair(swish, bad), Similarity: 0.9005769\n",
            "Pair(gump, cow), Similarity: 0.90050745\n",
            "Pair(cow, gump), Similarity: 0.90050745\n",
            "Pair(know, fat), Similarity: 0.8936275\n",
            "Pair(fat, know), Similarity: 0.8936275\n",
            "Pair(how, bump), Similarity: 0.891194\n",
            "Pair(bump, how), Similarity: 0.891194\n",
            "Pair(very, kite), Similarity: 0.8880101\n",
            "Pair(more, did), Similarity: 0.88716364\n",
            "Pair(did, more), Similarity: 0.88716364\n",
            "Pair(and, all), Similarity: 0.8849913\n",
            "Pair(all, and), Similarity: 0.8849913\n",
            "Pair(feet, at), Similarity: 0.8845756\n",
            "Pair(at, feet), Similarity: 0.8845756\n",
            "Pair(way, and), Similarity: 0.8841738\n",
            "Pair(them, hop), Similarity: 0.8830408\n",
            "Pair(hop, them), Similarity: 0.8830408\n"
          ]
        }
      ],
      "source": [
        "find_most_similar_pairs('dr_seuss.txt', 10)"
      ]
    },
    {
      "cell_type": "code",
      "execution_count": null,
      "metadata": {
        "id": "1OypGn399owV"
      },
      "outputs": [],
      "source": []
    }
  ],
  "metadata": {
    "colab": {
      "collapsed_sections": [
        "h9aBEkZD5wb2"
      ],
      "provenance": []
    },
    "kernelspec": {
      "display_name": "Python 3",
      "name": "python3"
    },
    "language_info": {
      "codemirror_mode": {
        "name": "ipython",
        "version": 3
      },
      "file_extension": ".py",
      "mimetype": "text/x-python",
      "name": "python",
      "nbconvert_exporter": "python",
      "pygments_lexer": "ipython3",
      "version": "3.12.2"
    }
  },
  "nbformat": 4,
  "nbformat_minor": 0
}
