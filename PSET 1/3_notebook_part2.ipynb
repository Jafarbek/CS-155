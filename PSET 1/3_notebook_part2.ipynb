{
  "cells": [
    {
      "cell_type": "markdown",
      "metadata": {
        "colab_type": "text",
        "id": "view-in-github"
      },
      "source": [
        "<a href=\"https://colab.research.google.com/drive/1LZ8HY1Y5HH0OSqmpHUkSzRE7HTzeMxQo\" target=\"_parent\"><img src=\"https://colab.research.google.com/assets/colab-badge.svg\" alt=\"Open In Colab\"/></a>"
      ]
    },
    {
      "cell_type": "markdown",
      "metadata": {
        "id": "9MiHp58KI7c_"
      },
      "source": [
        "# Problem 3, Parts F-H: Stochastic Gradient Descent with a Larger Dataset"
      ]
    },
    {
      "cell_type": "markdown",
      "metadata": {
        "id": "xBMavqB9I7dD"
      },
      "source": [
        "Use this notebook to write your code for problem 3 parts F-H by filling in the sections marked `# TODO` and running all cells."
      ]
    },
    {
      "cell_type": "code",
      "execution_count": 1,
      "metadata": {},
      "outputs": [],
      "source": [
        "import requests\n",
        "\n",
        "\n",
        "url_dict = {\n",
        "    'sgd_data.csv': 'https://drive.usercontent.google.com/download?id=14UPDlsLd9sn0aVOCjslCgyB3AtQoYvnZ&export=download&authuser=0&confirm=t&uuid=ae3b4a91-9c34-42b0-8c90-d368456462d3&at=APZUnTWYXEnTwNQ08i_q89zDsaJv:1704950346746'\n",
        "}\n",
        "\n",
        "\n",
        "def download_file(file_path):\n",
        "    url = url_dict[file_path]\n",
        "    print('Start downloading...')\n",
        "    with requests.get(url, stream=True) as r:\n",
        "        r.raise_for_status()\n",
        "        with open(file_path, 'wb') as f:\n",
        "            for chunk in r.iter_content(chunk_size=1024 * 1024 * 1024):\n",
        "                f.write(chunk)\n",
        "    print('Complete')"
      ]
    },
    {
      "cell_type": "code",
      "execution_count": 2,
      "metadata": {
        "collapsed": true,
        "id": "zD8uOTAbI7dE"
      },
      "outputs": [],
      "source": [
        "# Setup.\n",
        "\n",
        "import numpy as np\n",
        "import matplotlib.pyplot as plt\n",
        "\n",
        "%matplotlib inline"
      ]
    },
    {
      "cell_type": "markdown",
      "metadata": {
        "id": "KmeowyuSI7dF"
      },
      "source": [
        "## Problem 3F: Perform SGD with the new dataset"
      ]
    },
    {
      "cell_type": "markdown",
      "metadata": {
        "id": "b_Yr_uEXI7dG"
      },
      "source": [
        "For the functions below, you may re-use your code from parts 3C-E. Note that you can now modify your SGD function to return the final weight vector instead of the weights after every epoch."
      ]
    },
    {
      "cell_type": "code",
      "execution_count": 18,
      "metadata": {
        "collapsed": true,
        "id": "lOqNtnhXI7dG"
      },
      "outputs": [],
      "source": [
        "def loss(X, Y, w):\n",
        "    '''\n",
        "    Calculate the squared loss function.\n",
        "    \n",
        "    Inputs:\n",
        "        X: A (N, D) shaped numpy array containing the data points.\n",
        "        Y: A (N, ) shaped numpy array containing the (float) labels of the data points.\n",
        "        w: A (D, ) shaped numpy array containing the weight vector.\n",
        "    \n",
        "    Outputs:\n",
        "        The loss evaluated with respect to X, Y, and w.\n",
        "    '''\n",
        "    \n",
        "    predictions = np.dot(X, w)\n",
        "    return np.mean((predictions - Y) ** 2)\n",
        "    \n",
        "\n",
        "def gradient(x, y, w):\n",
        "    '''\n",
        "    Calculate the gradient of the loss function with respect to\n",
        "    a single point (x, y), and using weight vector w.\n",
        "    \n",
        "    Inputs:\n",
        "        x: A (D, ) shaped numpy array containing a single data point.\n",
        "        y: The float label for the data point.\n",
        "        w: A (D, ) shaped numpy array containing the weight vector.\n",
        "        \n",
        "    Output:\n",
        "        The gradient of the loss with respect to x, y, and w. \n",
        "    '''\n",
        "    \n",
        "    return 2 * x * (np.dot(w, x) - y)\n",
        "\n",
        "\n",
        "def SGD(X, Y, w_start, eta, N_epochs):\n",
        "    '''\n",
        "    Perform SGD using dataset (X, Y), initial weight vector w_start,\n",
        "    learning rate eta, and N_epochs epochs.\n",
        "    \n",
        "    Inputs:\n",
        "        X: A (N, D) shaped numpy array containing the data points.\n",
        "        Y: A (N, ) shaped numpy array containing the (float) labels of the data points.\n",
        "        w_start:  A (D, ) shaped numpy array containing the weight vector initialization.\n",
        "        eta: The step size.\n",
        "        N_epochs: The number of epochs (iterations) to run SGD.\n",
        "        \n",
        "    Outputs:\n",
        "        w: A (D, ) shaped array containing the final weight vector.\n",
        "        losses: A (N_epochs, ) shaped array containing the losses from all iterations.\n",
        "    '''\n",
        "    \n",
        "    losses = np.zeros(N_epochs)\n",
        "    w = w_start.copy()\n",
        "\n",
        "    for epoch in range(N_epochs):\n",
        "        indices = np.random.permutation(len(Y))\n",
        "        losses[epoch] = loss(X, Y, w)\n",
        "        for j in indices:\n",
        "            w -= eta * gradient(X[j], Y[j], w)   \n",
        "\n",
        "    return w , losses"
      ]
    },
    {
      "cell_type": "markdown",
      "metadata": {
        "id": "URle0yiaI7dI"
      },
      "source": [
        "Next, we need to load the dataset. In doing so, the following function may be helpful:"
      ]
    },
    {
      "cell_type": "code",
      "execution_count": 19,
      "metadata": {
        "collapsed": true,
        "id": "HawZHA9-I7dJ"
      },
      "outputs": [],
      "source": [
        "def load_data(filename):\n",
        "    \"\"\"\n",
        "    Function loads data stored in the file filename and returns it as a numpy ndarray.\n",
        "    \n",
        "    Inputs:\n",
        "        filename: GeneratorExitiven as a string.\n",
        "    \n",
        "    Outputs:\n",
        "        Data contained in the file, returned as a numpy ndarray\n",
        "    \"\"\"\n",
        "    return np.loadtxt(filename, skiprows=1, delimiter=',')"
      ]
    },
    {
      "cell_type": "markdown",
      "metadata": {
        "id": "miOL66ooI7dJ"
      },
      "source": [
        "Now, load the dataset in `sgd_data.csv` and run SGD using the given parameters; print out the final weights."
      ]
    },
    {
      "cell_type": "code",
      "execution_count": 20,
      "metadata": {},
      "outputs": [
        {
          "name": "stdout",
          "output_type": "stream",
          "text": [
            "Start downloading...\n",
            "Complete\n"
          ]
        }
      ],
      "source": [
        "download_file('sgd_data.csv')"
      ]
    },
    {
      "cell_type": "code",
      "execution_count": 21,
      "metadata": {
        "collapsed": true,
        "id": "w8zujpzQI7dK"
      },
      "outputs": [
        {
          "name": "stdout",
          "output_type": "stream",
          "text": [
            "w =  [ -0.22718741  -5.94210739   3.94390866 -11.72383731   8.78567881]\n"
          ]
        }
      ],
      "source": [
        "\n",
        "load_data('sgd_data.csv')\n",
        "\n",
        "data = load_data('sgd_data.csv')\n",
        "X = data[:,:-1]\n",
        "Y = data[:,-1]\n",
        "\n",
        "ones = np.ones((len(X), 1))\n",
        "X = np.hstack((ones, X))\n",
        "\n",
        "w_start = np.array([0.001] * 5)\n",
        "eta = np.exp(-15)\n",
        "N_epochs = 800\n",
        "\n",
        "w, losses = SGD(X, Y, w_start, eta, N_epochs)\n",
        "\n",
        "print('w = ', w)"
      ]
    },
    {
      "cell_type": "markdown",
      "metadata": {
        "id": "hrQbch5ZI7dL"
      },
      "source": [
        "## Problem 3G: Convergence of SGD"
      ]
    },
    {
      "cell_type": "markdown",
      "metadata": {
        "id": "wifm5ZIMI7dL"
      },
      "source": [
        "This problem examines the convergence of SGD for different learning rates. Please implement your code in the cell below:"
      ]
    },
    {
      "cell_type": "code",
      "execution_count": null,
      "metadata": {
        "collapsed": true,
        "id": "gV4SipwAI7dL"
      },
      "outputs": [
        {
          "data": {
            "image/png": "[encoded data removed]",
            "text/plain": [
              "<Figure size 640x480 with 1 Axes>"
            ]
          },
          "metadata": {},
          "output_type": "display_data"
        }
      ],
      "source": [
        "N_epochs = 800\n",
        "\n",
        "legend_handles = []\n",
        "series_names = []\n",
        "\n",
        "plt.figure()\n",
        "\n",
        "all_losses = []\n",
        "\n",
        "for i in range(10, 16):\n",
        "    all_losses.append(losses)\n",
        "    name = 'eta = e^' + str(-i)\n",
        "    _, losses = SGD(X, Y, np.array([0.001] * 5), np.exp(-i), N_epochs)\n",
        "    data_series, = plt.plot(losses, label=name)\n",
        "    legend_handles.append(data_series)\n",
        "    series_names.append(name)\n",
        "\n",
        "plt.legend(legend_handles, series_names)\n",
        "plt.xlabel('Epoch')\n",
        "plt.ylabel('Error')\n",
        "plt.title('SGD Error')\n",
        "plt.show()\n"
      ]
    },
    {
      "cell_type": "markdown",
      "metadata": {
        "id": "_vRECK4XI7dM"
      },
      "source": [
        "## Problem 3H"
      ]
    },
    {
      "cell_type": "markdown",
      "metadata": {
        "id": "wCovlxnHI7dM"
      },
      "source": [
        "Provide your code for computing the least-squares analytical solution below."
      ]
    },
    {
      "cell_type": "code",
      "execution_count": 37,
      "metadata": {
        "collapsed": true,
        "id": "PW5MWI-2I7dM"
      },
      "outputs": [
        {
          "name": "stdout",
          "output_type": "stream",
          "text": [
            "w =  [ -0.31644251  -5.99157048   4.01509955 -11.93325972   8.99061096]\n"
          ]
        }
      ],
      "source": [
        "#==============================================\n",
        "# TODO: implement the least-squares\n",
        "# analytical solution.\n",
        "#==============================================\n",
        "\n",
        "def least_squares(X, Y):\n",
        "    '''\n",
        "    Calculate the least-squares analytical solution.\n",
        "    \n",
        "    Inputs:\n",
        "        X: A (N, D) shaped numpy array containing the data points.\n",
        "        Y: A (N, ) shaped numpy array containing the (float) labels of the data points.\n",
        "    \n",
        "    Outputs:\n",
        "        w: A (D, ) shaped numpy array containing the weight vector.\n",
        "    '''\n",
        "    \n",
        "    return np.linalg.inv(X.T @ X) @ X.T @ Y\n",
        "\n",
        "print('w = ', least_squares(X, Y))"
      ]
    }
  ],
  "metadata": {
    "anaconda-cloud": {},
    "colab": {
      "include_colab_link": true,
      "name": "3_notebook_part2.ipynb",
      "provenance": []
    },
    "kernelspec": {
      "display_name": "Python 3",
      "language": "python",
      "name": "python3"
    },
    "language_info": {
      "codemirror_mode": {
        "name": "ipython",
        "version": 3
      },
      "file_extension": ".py",
      "mimetype": "text/x-python",
      "name": "python",
      "nbconvert_exporter": "python",
      "pygments_lexer": "ipython3",
      "version": "3.12.2"
    }
  },
  "nbformat": 4,
  "nbformat_minor": 0
}
